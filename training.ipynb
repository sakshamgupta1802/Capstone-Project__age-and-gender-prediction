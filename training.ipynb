{
 "cells": [
  {
   "cell_type": "markdown",
   "metadata": {},
   "source": [
    "# Age and Gender Prediction\n",
    "\n",
    "\n",
    "Part 1 : Training Convolutional Neural Network with Tensorflow and Keras on wiki dataset.\n",
    "\n",
    "\n",
    "\n",
    "\n",
    "\n",
    "\n",
    "\n",
    "The wiki dataset is a large-scale face dataset consisting of over 20,000 images. The images cover a wide range of ages and races and include both males and females. "
   ]
  },
  {
   "cell_type": "markdown",
   "metadata": {},
   "source": [
    "# imports"
   ]
  },
  {
   "cell_type": "code",
   "execution_count": 1,
   "metadata": {
    "ExecuteTime": {
     "end_time": "2021-06-14T16:14:09.286488Z",
     "start_time": "2021-06-14T16:12:56.250069Z"
    },
    "execution": {
     "iopub.execute_input": "2021-06-14T15:59:01.622187Z",
     "iopub.status.busy": "2021-06-14T15:59:01.621712Z",
     "iopub.status.idle": "2021-06-14T15:59:07.979855Z",
     "shell.execute_reply": "2021-06-14T15:59:07.978981Z",
     "shell.execute_reply.started": "2021-06-14T15:59:01.622074Z"
    }
   },
   "outputs": [],
   "source": [
    "# importing library \n",
    "import random\n",
    "import pandas as pd\n",
    "import numpy as np\n",
    "import seaborn as sns\n",
    "import matplotlib.pyplot as plt\n",
    "\n",
    "import os\n",
    "from PIL import Image, ImageOps\n",
    "from sklearn.model_selection import train_test_split,StratifiedShuffleSplit\n",
    "from keras import optimizers\n",
    "from keras.models import Sequential\n",
    "from keras.layers import Conv2D, MaxPooling2D, Activation, Dropout, Flatten, Dense\n",
    "from tensorflow.keras import Input, Model\n",
    "\n",
    "import tensorflow as tf"
   ]
  },
  {
   "cell_type": "markdown",
   "metadata": {},
   "source": [
    "# Set Parmeters"
   ]
  },
  {
   "cell_type": "code",
   "execution_count": 2,
   "metadata": {
    "execution": {
     "iopub.execute_input": "2021-06-14T15:59:07.982157Z",
     "iopub.status.busy": "2021-06-14T15:59:07.981747Z",
     "iopub.status.idle": "2021-06-14T15:59:07.990811Z",
     "shell.execute_reply": "2021-06-14T15:59:07.989786Z",
     "shell.execute_reply.started": "2021-06-14T15:59:07.982124Z"
    }
   },
   "outputs": [],
   "source": [
    "n_epochs=30\n",
    "n_batch_size=34\n",
    "size= 200\n",
    "# True to use less number of samples during the traing trials, False to obtain final trained model using all samples.\n",
    "developing_stage=True "
   ]
  },
  {
   "cell_type": "markdown",
   "metadata": {},
   "source": [
    "# Reading and exploring data "
   ]
  },
  {
   "cell_type": "code",
   "execution_count": 6,
   "metadata": {},
   "outputs": [],
   "source": [
    "# Here we read data from wiki dataset and explore the data. Exploring is done so that Users \n",
    "# look at and understand their data with statistical and visualization methods. \n",
    "# This step helps identifying patterns and problems in the dataset, as well as deciding which model or\n",
    "# algorithm to use in subsequent steps"
   ]
  },
  {
   "cell_type": "code",
   "execution_count": 3,
   "metadata": {
    "execution": {
     "iopub.execute_input": "2021-06-14T15:59:07.993597Z",
     "iopub.status.busy": "2021-06-14T15:59:07.993235Z",
     "iopub.status.idle": "2021-06-14T15:59:24.615486Z",
     "shell.execute_reply": "2021-06-14T15:59:24.614615Z",
     "shell.execute_reply.started": "2021-06-14T15:59:07.993566Z"
    }
   },
   "outputs": [],
   "source": [
    "images = []\n",
    "ages = []\n",
    "genders = []\n",
    "if developing_stage:\n",
    "    last_idx=5000   \n",
    "else:\n",
    "    last_idx=-1\n",
    "\n",
    "for i in os.listdir(r'C:\\Users\\Saksham\\Desktop\\JOVAC\\images\\wiki_crop')[0:last_idx]:\n",
    "    split = i.split('_')\n",
    "    ages.append(int(split[0]))\n",
    "    genders.append(int(split[1]))\n",
    "    images.append(Image.open(r'C:\\Users\\Saksham\\Desktop\\JOVAC\\images\\wiki_crop' + i))"
   ]
  },
  {
   "cell_type": "code",
   "execution_count": 4,
   "metadata": {
    "execution": {
     "iopub.execute_input": "2021-06-14T15:59:24.617098Z",
     "iopub.status.busy": "2021-06-14T15:59:24.616740Z",
     "iopub.status.idle": "2021-06-14T15:59:24.655253Z",
     "shell.execute_reply": "2021-06-14T15:59:24.654523Z",
     "shell.execute_reply.started": "2021-06-14T15:59:24.617058Z"
    }
   },
   "outputs": [
    {
     "data": {
      "text/html": [
       "<div>\n",
       "<style scoped>\n",
       "    .dataframe tbody tr th:only-of-type {\n",
       "        vertical-align: middle;\n",
       "    }\n",
       "\n",
       "    .dataframe tbody tr th {\n",
       "        vertical-align: top;\n",
       "    }\n",
       "\n",
       "    .dataframe thead th {\n",
       "        text-align: right;\n",
       "    }\n",
       "</style>\n",
       "<table border=\"1\" class=\"dataframe\">\n",
       "  <thead>\n",
       "    <tr style=\"text-align: right;\">\n",
       "      <th></th>\n",
       "      <th>Images</th>\n",
       "      <th>Ages</th>\n",
       "      <th>Genders</th>\n",
       "    </tr>\n",
       "  </thead>\n",
       "  <tbody>\n",
       "    <tr>\n",
       "      <th>0</th>\n",
       "      <td>&lt;PIL.JpegImagePlugin.JpegImageFile image mode=...</td>\n",
       "      <td>26</td>\n",
       "      <td>0</td>\n",
       "    </tr>\n",
       "    <tr>\n",
       "      <th>1</th>\n",
       "      <td>&lt;PIL.JpegImagePlugin.JpegImageFile image mode=...</td>\n",
       "      <td>22</td>\n",
       "      <td>1</td>\n",
       "    </tr>\n",
       "    <tr>\n",
       "      <th>2</th>\n",
       "      <td>&lt;PIL.JpegImagePlugin.JpegImageFile image mode=...</td>\n",
       "      <td>21</td>\n",
       "      <td>1</td>\n",
       "    </tr>\n",
       "    <tr>\n",
       "      <th>3</th>\n",
       "      <td>&lt;PIL.JpegImagePlugin.JpegImageFile image mode=...</td>\n",
       "      <td>28</td>\n",
       "      <td>0</td>\n",
       "    </tr>\n",
       "    <tr>\n",
       "      <th>4</th>\n",
       "      <td>&lt;PIL.JpegImagePlugin.JpegImageFile image mode=...</td>\n",
       "      <td>17</td>\n",
       "      <td>1</td>\n",
       "    </tr>\n",
       "  </tbody>\n",
       "</table>\n",
       "</div>"
      ],
      "text/plain": [
       "                                              Images  Ages  Genders\n",
       "0  <PIL.JpegImagePlugin.JpegImageFile image mode=...    26        0\n",
       "1  <PIL.JpegImagePlugin.JpegImageFile image mode=...    22        1\n",
       "2  <PIL.JpegImagePlugin.JpegImageFile image mode=...    21        1\n",
       "3  <PIL.JpegImagePlugin.JpegImageFile image mode=...    28        0\n",
       "4  <PIL.JpegImagePlugin.JpegImageFile image mode=...    17        1"
      ]
     },
     "execution_count": 4,
     "metadata": {},
     "output_type": "execute_result"
    }
   ],
   "source": [
    "images = pd.Series(list(images), name = 'Images')\n",
    "ages = pd.Series(list(ages), name = 'Ages')\n",
    "genders = pd.Series(list(genders), name = 'Genders')\n",
    "\n",
    "df = pd.concat([images, ages, genders], axis=1)\n",
    "df.head(5)"
   ]
  },
  {
   "cell_type": "code",
   "execution_count": 5,
   "metadata": {
    "execution": {
     "iopub.execute_input": "2021-06-14T15:59:24.659758Z",
     "iopub.status.busy": "2021-06-14T15:59:24.659458Z",
     "iopub.status.idle": "2021-06-14T15:59:24.666443Z",
     "shell.execute_reply": "2021-06-14T15:59:24.665619Z",
     "shell.execute_reply.started": "2021-06-14T15:59:24.659725Z"
    }
   },
   "outputs": [],
   "source": [
    "def get_gender(x):\n",
    "    return \"Femal\" if x else \"Male\""
   ]
  },
  {
   "cell_type": "code",
   "execution_count": 37,
   "metadata": {
    "execution": {
     "iopub.execute_input": "2021-06-14T16:04:55.499777Z",
     "iopub.status.busy": "2021-06-14T16:04:55.499418Z",
     "iopub.status.idle": "2021-06-14T16:04:55.531216Z",
     "shell.execute_reply": "2021-06-14T16:04:55.530255Z",
     "shell.execute_reply.started": "2021-06-14T16:04:55.499747Z"
    }
   },
   "outputs": [
    {
     "name": "stdout",
     "output_type": "stream",
     "text": [
      "Age and Gender :  53 ,  Femal\n"
     ]
    },
    {
     "data": {
      "image/png": "[encoded data removed]",
      "text/plain": [
       "<PIL.JpegImagePlugin.JpegImageFile image mode=RGB size=200x200 at 0x7F2D7F9C7150>"
      ]
     },
     "metadata": {},
     "output_type": "display_data"
    }
   ],
   "source": [
    "# 0 corresponds to male, 1 corresponds to female.\n",
    "rand_number = random.randint(0,len(df))\n",
    "print(\"Age and Gender : \",df['Ages'][rand_number],\", \", get_gender(df['Genders'][rand_number]))\n",
    "display(df['Images'][rand_number])"
   ]
  },
  {
   "cell_type": "code",
   "execution_count": 7,
   "metadata": {
    "execution": {
     "iopub.execute_input": "2021-06-14T15:59:24.710269Z",
     "iopub.status.busy": "2021-06-14T15:59:24.709873Z",
     "iopub.status.idle": "2021-06-14T15:59:24.736309Z",
     "shell.execute_reply": "2021-06-14T15:59:24.735191Z",
     "shell.execute_reply.started": "2021-06-14T15:59:24.710226Z"
    }
   },
   "outputs": [
    {
     "data": {
      "text/html": [
       "<div>\n",
       "<style scoped>\n",
       "    .dataframe tbody tr th:only-of-type {\n",
       "        vertical-align: middle;\n",
       "    }\n",
       "\n",
       "    .dataframe tbody tr th {\n",
       "        vertical-align: top;\n",
       "    }\n",
       "\n",
       "    .dataframe thead th {\n",
       "        text-align: right;\n",
       "    }\n",
       "</style>\n",
       "<table border=\"1\" class=\"dataframe\">\n",
       "  <thead>\n",
       "    <tr style=\"text-align: right;\">\n",
       "      <th></th>\n",
       "      <th>Ages</th>\n",
       "      <th>Genders</th>\n",
       "    </tr>\n",
       "  </thead>\n",
       "  <tbody>\n",
       "    <tr>\n",
       "      <th>count</th>\n",
       "      <td>5000.000000</td>\n",
       "      <td>5000.000000</td>\n",
       "    </tr>\n",
       "    <tr>\n",
       "      <th>mean</th>\n",
       "      <td>34.114600</td>\n",
       "      <td>0.478000</td>\n",
       "    </tr>\n",
       "    <tr>\n",
       "      <th>std</th>\n",
       "      <td>20.281305</td>\n",
       "      <td>0.499566</td>\n",
       "    </tr>\n",
       "    <tr>\n",
       "      <th>min</th>\n",
       "      <td>1.000000</td>\n",
       "      <td>0.000000</td>\n",
       "    </tr>\n",
       "    <tr>\n",
       "      <th>25%</th>\n",
       "      <td>24.000000</td>\n",
       "      <td>0.000000</td>\n",
       "    </tr>\n",
       "    <tr>\n",
       "      <th>50%</th>\n",
       "      <td>30.000000</td>\n",
       "      <td>0.000000</td>\n",
       "    </tr>\n",
       "    <tr>\n",
       "      <th>75%</th>\n",
       "      <td>46.000000</td>\n",
       "      <td>1.000000</td>\n",
       "    </tr>\n",
       "    <tr>\n",
       "      <th>max</th>\n",
       "      <td>115.000000</td>\n",
       "      <td>1.000000</td>\n",
       "    </tr>\n",
       "  </tbody>\n",
       "</table>\n",
       "</div>"
      ],
      "text/plain": [
       "              Ages      Genders\n",
       "count  5000.000000  5000.000000\n",
       "mean     34.114600     0.478000\n",
       "std      20.281305     0.499566\n",
       "min       1.000000     0.000000\n",
       "25%      24.000000     0.000000\n",
       "50%      30.000000     0.000000\n",
       "75%      46.000000     1.000000\n",
       "max     115.000000     1.000000"
      ]
     },
     "execution_count": 7,
     "metadata": {},
     "output_type": "execute_result"
    }
   ],
   "source": [
    "df.describe()"
   ]
  },
  {
   "cell_type": "code",
   "execution_count": 8,
   "metadata": {
    "execution": {
     "iopub.execute_input": "2021-06-14T15:59:24.738518Z",
     "iopub.status.busy": "2021-06-14T15:59:24.738087Z",
     "iopub.status.idle": "2021-06-14T15:59:25.065159Z",
     "shell.execute_reply": "2021-06-14T15:59:25.064391Z",
     "shell.execute_reply.started": "2021-06-14T15:59:24.738460Z"
    }
   },
   "outputs": [
    {
     "data": {
      "text/plain": [
       "<seaborn.axisgrid.FacetGrid at 0x7f2d7f668e50>"
      ]
     },
     "execution_count": 8,
     "metadata": {},
     "output_type": "execute_result"
    },
    {
     "data": {
      "image/png": "[encoded data removed]",
      "text/plain": [
       "<Figure size 360x360 with 1 Axes>"
      ]
     },
     "metadata": {
      "needs_background": "light"
     },
     "output_type": "display_data"
    }
   ],
   "source": [
    "sns.displot(df['Ages'],kde=True, bins=30)"
   ]
  },
  {
   "cell_type": "markdown",
   "metadata": {},
   "source": [
    "# Data modification \n",
    "Too many faces of people between 0 and 4 years old. The model would fit too well to these ages and not enough to the other ages. On the other hand, there aren't many images of people over 80, which would cause the model to not train well enough on those ages. So it is better to just remove over 80s and only have a model that can predict the ages of people over 4 and under 80."
   ]
  },
  {
   "cell_type": "code",
   "execution_count": 9,
   "metadata": {
    "execution": {
     "iopub.execute_input": "2021-06-14T15:59:25.066833Z",
     "iopub.status.busy": "2021-06-14T15:59:25.066474Z",
     "iopub.status.idle": "2021-06-14T15:59:25.075547Z",
     "shell.execute_reply": "2021-06-14T15:59:25.073249Z",
     "shell.execute_reply.started": "2021-06-14T15:59:25.066795Z"
    }
   },
   "outputs": [
    {
     "name": "stdout",
     "output_type": "stream",
     "text": [
      "Number of Samples before remove:  (5000, 3)\n",
      "Number of Samples after remove:  (4221, 3)\n"
     ]
    }
   ],
   "source": [
    "print(\"Number of Samples before remove: \", df.shape)\n",
    "df = df[(df['Ages'] > 4) & (df['Ages'] < 70)]\n",
    "print(\"Number of Samples after remove: \", df.shape)"
   ]
  },
  {
   "cell_type": "code",
   "execution_count": 10,
   "metadata": {
    "execution": {
     "iopub.execute_input": "2021-06-14T15:59:25.078742Z",
     "iopub.status.busy": "2021-06-14T15:59:25.078031Z",
     "iopub.status.idle": "2021-06-14T15:59:25.359961Z",
     "shell.execute_reply": "2021-06-14T15:59:25.358953Z",
     "shell.execute_reply.started": "2021-06-14T15:59:25.078698Z"
    }
   },
   "outputs": [
    {
     "data": {
      "text/plain": [
       "<seaborn.axisgrid.FacetGrid at 0x7f2d7cae1e90>"
      ]
     },
     "execution_count": 10,
     "metadata": {},
     "output_type": "execute_result"
    },
    {
     "data": {
      "image/png": "[encoded data removed]",
      "text/plain": [
       "<Figure size 360x360 with 1 Axes>"
      ]
     },
     "metadata": {
      "needs_background": "light"
     },
     "output_type": "display_data"
    }
   ],
   "source": [
    "sns.displot(df['Ages'],kde=True, bins=20)"
   ]
  },
  {
   "cell_type": "markdown",
   "metadata": {},
   "source": [
    "# Prepare datasets"
   ]
  },
  {
   "cell_type": "code",
   "execution_count": 11,
   "metadata": {
    "execution": {
     "iopub.execute_input": "2021-06-14T15:59:25.362015Z",
     "iopub.status.busy": "2021-06-14T15:59:25.361418Z",
     "iopub.status.idle": "2021-06-14T15:59:30.317803Z",
     "shell.execute_reply": "2021-06-14T15:59:30.315458Z",
     "shell.execute_reply.started": "2021-06-14T15:59:25.361972Z"
    }
   },
   "outputs": [
    {
     "name": "stdout",
     "output_type": "stream",
     "text": [
      "(4221, 200, 200, 3)\n",
      "(4221,)\n",
      "(4221,)\n"
     ]
    }
   ],
   "source": [
    "X = []\n",
    "Y = []  # age\n",
    "Z = []  # gender\n",
    "\n",
    "def make_X(a):\n",
    "    b = a.resize((size,size), Image.ANTIALIAS)\n",
    "    ar = np.asarray(b)\n",
    "    X.append(ar) \n",
    "        \n",
    "df['Images'].map(make_X)          \n",
    "X = np.array(X)\n",
    "Y = np.array(df['Ages'])\n",
    "Z = np.array(df['Genders'])\n",
    "\n",
    "print(X.shape)\n",
    "print(Y.shape)\n",
    "print(Z.shape)"
   ]
  },
  {
   "cell_type": "markdown",
   "metadata": {},
   "source": [
    "##  Train and Validation data"
   ]
  },
  {
   "cell_type": "code",
   "execution_count": 12,
   "metadata": {
    "execution": {
     "iopub.execute_input": "2021-06-14T15:59:30.319805Z",
     "iopub.status.busy": "2021-06-14T15:59:30.319308Z",
     "iopub.status.idle": "2021-06-14T15:59:30.639424Z",
     "shell.execute_reply": "2021-06-14T15:59:30.638394Z",
     "shell.execute_reply.started": "2021-06-14T15:59:30.319761Z"
    }
   },
   "outputs": [
    {
     "name": "stdout",
     "output_type": "stream",
     "text": [
      "(2828, 200, 200, 3)\n",
      "(2828,)\n",
      "(2828,)\n"
     ]
    }
   ],
   "source": [
    "sss = StratifiedShuffleSplit(n_splits=2, test_size=0.33, random_state=0)\n",
    "\n",
    "for train_index, test_index in sss.split(X, Y):\n",
    "#     print(\"TRAIN:\", train_index, \"TEST:\", test_index)\n",
    "    X_train, X_test = X[train_index], X[test_index]\n",
    "    y_train, y_test = Y[train_index], Y[test_index]\n",
    "    z_train, z_test = Z[train_index], Z[test_index]\n",
    "\n",
    "print(X_train.shape)\n",
    "print(y_train.shape)\n",
    "print(z_train.shape)\n"
   ]
  },
  {
   "cell_type": "markdown",
   "metadata": {},
   "source": [
    "# Define model with Multiple outputs (1: predict age, 2: classify gender)"
   ]
  },
  {
   "cell_type": "code",
   "execution_count": 14,
   "metadata": {
    "execution": {
     "iopub.execute_input": "2021-06-14T15:59:32.068726Z",
     "iopub.status.busy": "2021-06-14T15:59:32.068131Z",
     "iopub.status.idle": "2021-06-14T16:00:53.664936Z",
     "shell.execute_reply": "2021-06-14T16:00:53.664027Z",
     "shell.execute_reply.started": "2021-06-14T15:59:32.068498Z"
    }
   },
   "outputs": [
    {
     "name": "stdout",
     "output_type": "stream",
     "text": [
      "Epoch 1/30\n",
      "84/84 [==============================] - 8s 39ms/step - loss: 29.5754 - age_loss: 17.4938 - gender_loss: 12.0816 - age_mean_absolute_error: 17.4938 - gender_accuracy: 0.5657 - val_loss: 11.0729 - val_age_loss: 10.6231 - val_gender_loss: 0.4498 - val_age_mean_absolute_error: 10.6231 - val_gender_accuracy: 0.8033\n",
      "Epoch 2/30\n",
      "84/84 [==============================] - 2s 29ms/step - loss: 12.3271 - age_loss: 11.5432 - gender_loss: 0.7839 - age_mean_absolute_error: 11.5432 - gender_accuracy: 0.6988 - val_loss: 10.6912 - val_age_loss: 10.3012 - val_gender_loss: 0.3900 - val_age_mean_absolute_error: 10.3012 - val_gender_accuracy: 0.8421\n",
      "Epoch 3/30\n",
      "84/84 [==============================] - 2s 30ms/step - loss: 10.8758 - age_loss: 10.3030 - gender_loss: 0.5728 - age_mean_absolute_error: 10.3030 - gender_accuracy: 0.7678 - val_loss: 9.8674 - val_age_loss: 9.4692 - val_gender_loss: 0.3982 - val_age_mean_absolute_error: 9.4692 - val_gender_accuracy: 0.8342\n",
      "Epoch 4/30\n",
      "84/84 [==============================] - 2s 29ms/step - loss: 10.1266 - age_loss: 9.6275 - gender_loss: 0.4991 - age_mean_absolute_error: 9.6275 - gender_accuracy: 0.7915 - val_loss: 11.2642 - val_age_loss: 10.9236 - val_gender_loss: 0.3406 - val_age_mean_absolute_error: 10.9236 - val_gender_accuracy: 0.8557\n",
      "Epoch 5/30\n",
      "84/84 [==============================] - 2s 29ms/step - loss: 9.9141 - age_loss: 9.4599 - gender_loss: 0.4542 - age_mean_absolute_error: 9.4599 - gender_accuracy: 0.8248 - val_loss: 10.5713 - val_age_loss: 10.2804 - val_gender_loss: 0.2909 - val_age_mean_absolute_error: 10.2804 - val_gender_accuracy: 0.8758\n",
      "Epoch 6/30\n",
      "84/84 [==============================] - 2s 29ms/step - loss: 9.9436 - age_loss: 9.5374 - gender_loss: 0.4062 - age_mean_absolute_error: 9.5374 - gender_accuracy: 0.8193 - val_loss: 11.4548 - val_age_loss: 11.1591 - val_gender_loss: 0.2957 - val_age_mean_absolute_error: 11.1591 - val_gender_accuracy: 0.8780\n",
      "Epoch 7/30\n",
      "84/84 [==============================] - 2s 29ms/step - loss: 9.2165 - age_loss: 8.8692 - gender_loss: 0.3473 - age_mean_absolute_error: 8.8692 - gender_accuracy: 0.8551 - val_loss: 9.6624 - val_age_loss: 9.3529 - val_gender_loss: 0.3094 - val_age_mean_absolute_error: 9.3529 - val_gender_accuracy: 0.8751\n",
      "Epoch 8/30\n",
      "84/84 [==============================] - 2s 29ms/step - loss: 8.6911 - age_loss: 8.3489 - gender_loss: 0.3422 - age_mean_absolute_error: 8.3489 - gender_accuracy: 0.8633 - val_loss: 9.1414 - val_age_loss: 8.8087 - val_gender_loss: 0.3327 - val_age_mean_absolute_error: 8.8087 - val_gender_accuracy: 0.8665\n",
      "Epoch 9/30\n",
      "84/84 [==============================] - 2s 29ms/step - loss: 8.3371 - age_loss: 7.9190 - gender_loss: 0.4180 - age_mean_absolute_error: 7.9190 - gender_accuracy: 0.8420 - val_loss: 9.0134 - val_age_loss: 8.7418 - val_gender_loss: 0.2716 - val_age_mean_absolute_error: 8.7418 - val_gender_accuracy: 0.8909\n",
      "Epoch 10/30\n",
      "84/84 [==============================] - 2s 29ms/step - loss: 8.0728 - age_loss: 7.7660 - gender_loss: 0.3068 - age_mean_absolute_error: 7.7660 - gender_accuracy: 0.8872 - val_loss: 8.8110 - val_age_loss: 8.5048 - val_gender_loss: 0.3062 - val_age_mean_absolute_error: 8.5048 - val_gender_accuracy: 0.8830\n",
      "Epoch 11/30\n",
      "84/84 [==============================] - 2s 29ms/step - loss: 8.1341 - age_loss: 7.7955 - gender_loss: 0.3386 - age_mean_absolute_error: 7.7955 - gender_accuracy: 0.8694 - val_loss: 9.0325 - val_age_loss: 8.6324 - val_gender_loss: 0.4001 - val_age_mean_absolute_error: 8.6324 - val_gender_accuracy: 0.8550\n",
      "Epoch 12/30\n",
      "84/84 [==============================] - 3s 34ms/step - loss: 7.8762 - age_loss: 7.5196 - gender_loss: 0.3567 - age_mean_absolute_error: 7.5196 - gender_accuracy: 0.8741 - val_loss: 8.9636 - val_age_loss: 8.6850 - val_gender_loss: 0.2786 - val_age_mean_absolute_error: 8.6850 - val_gender_accuracy: 0.8916\n",
      "Epoch 13/30\n",
      "84/84 [==============================] - 2s 29ms/step - loss: 7.8619 - age_loss: 7.5507 - gender_loss: 0.3112 - age_mean_absolute_error: 7.5507 - gender_accuracy: 0.8672 - val_loss: 9.1195 - val_age_loss: 8.8205 - val_gender_loss: 0.2990 - val_age_mean_absolute_error: 8.8205 - val_gender_accuracy: 0.8816\n",
      "Epoch 14/30\n",
      "84/84 [==============================] - 2s 29ms/step - loss: 7.7022 - age_loss: 7.4189 - gender_loss: 0.2833 - age_mean_absolute_error: 7.4189 - gender_accuracy: 0.8792 - val_loss: 9.1221 - val_age_loss: 8.8013 - val_gender_loss: 0.3208 - val_age_mean_absolute_error: 8.8013 - val_gender_accuracy: 0.8794\n",
      "Epoch 15/30\n",
      "84/84 [==============================] - 2s 29ms/step - loss: 7.4817 - age_loss: 7.1949 - gender_loss: 0.2868 - age_mean_absolute_error: 7.1949 - gender_accuracy: 0.8846 - val_loss: 8.8804 - val_age_loss: 8.5664 - val_gender_loss: 0.3140 - val_age_mean_absolute_error: 8.5664 - val_gender_accuracy: 0.8765\n",
      "Epoch 16/30\n",
      "84/84 [==============================] - 2s 30ms/step - loss: 7.1959 - age_loss: 6.9446 - gender_loss: 0.2513 - age_mean_absolute_error: 6.9446 - gender_accuracy: 0.8961 - val_loss: 10.4168 - val_age_loss: 10.1512 - val_gender_loss: 0.2655 - val_age_mean_absolute_error: 10.1512 - val_gender_accuracy: 0.8916\n",
      "Epoch 17/30\n",
      "84/84 [==============================] - 2s 29ms/step - loss: 7.6164 - age_loss: 7.3820 - gender_loss: 0.2344 - age_mean_absolute_error: 7.3820 - gender_accuracy: 0.9029 - val_loss: 8.6987 - val_age_loss: 8.4076 - val_gender_loss: 0.2912 - val_age_mean_absolute_error: 8.4076 - val_gender_accuracy: 0.8866\n",
      "Epoch 18/30\n",
      "84/84 [==============================] - 2s 29ms/step - loss: 7.2065 - age_loss: 6.9726 - gender_loss: 0.2339 - age_mean_absolute_error: 6.9726 - gender_accuracy: 0.9010 - val_loss: 8.6880 - val_age_loss: 8.4254 - val_gender_loss: 0.2626 - val_age_mean_absolute_error: 8.4254 - val_gender_accuracy: 0.8995\n",
      "Epoch 19/30\n",
      "84/84 [==============================] - 2s 29ms/step - loss: 6.7384 - age_loss: 6.4976 - gender_loss: 0.2407 - age_mean_absolute_error: 6.4976 - gender_accuracy: 0.9038 - val_loss: 8.8720 - val_age_loss: 8.6067 - val_gender_loss: 0.2653 - val_age_mean_absolute_error: 8.6067 - val_gender_accuracy: 0.8916\n",
      "Epoch 20/30\n",
      "84/84 [==============================] - 2s 29ms/step - loss: 7.1472 - age_loss: 6.8902 - gender_loss: 0.2570 - age_mean_absolute_error: 6.8902 - gender_accuracy: 0.8892 - val_loss: 9.3759 - val_age_loss: 9.0786 - val_gender_loss: 0.2973 - val_age_mean_absolute_error: 9.0786 - val_gender_accuracy: 0.8837\n",
      "Epoch 21/30\n",
      "84/84 [==============================] - 2s 29ms/step - loss: 6.6814 - age_loss: 6.4497 - gender_loss: 0.2317 - age_mean_absolute_error: 6.4497 - gender_accuracy: 0.9111 - val_loss: 9.2376 - val_age_loss: 8.9728 - val_gender_loss: 0.2649 - val_age_mean_absolute_error: 8.9728 - val_gender_accuracy: 0.8909\n",
      "Epoch 22/30\n",
      "84/84 [==============================] - 2s 29ms/step - loss: 6.8240 - age_loss: 6.5744 - gender_loss: 0.2496 - age_mean_absolute_error: 6.5744 - gender_accuracy: 0.8909 - val_loss: 9.4431 - val_age_loss: 8.8969 - val_gender_loss: 0.5463 - val_age_mean_absolute_error: 8.8969 - val_gender_accuracy: 0.8141\n",
      "Epoch 23/30\n",
      "84/84 [==============================] - 2s 29ms/step - loss: 6.6462 - age_loss: 6.3607 - gender_loss: 0.2855 - age_mean_absolute_error: 6.3607 - gender_accuracy: 0.8869 - val_loss: 9.4421 - val_age_loss: 9.1922 - val_gender_loss: 0.2499 - val_age_mean_absolute_error: 9.1922 - val_gender_accuracy: 0.8981\n",
      "Epoch 24/30\n",
      "84/84 [==============================] - 2s 29ms/step - loss: 6.7203 - age_loss: 6.4676 - gender_loss: 0.2527 - age_mean_absolute_error: 6.4676 - gender_accuracy: 0.9023 - val_loss: 8.5596 - val_age_loss: 8.2867 - val_gender_loss: 0.2730 - val_age_mean_absolute_error: 8.2867 - val_gender_accuracy: 0.8966\n",
      "Epoch 25/30\n",
      "84/84 [==============================] - 3s 32ms/step - loss: 6.5112 - age_loss: 6.2714 - gender_loss: 0.2398 - age_mean_absolute_error: 6.2714 - gender_accuracy: 0.9100 - val_loss: 8.6724 - val_age_loss: 8.4042 - val_gender_loss: 0.2682 - val_age_mean_absolute_error: 8.4042 - val_gender_accuracy: 0.8945\n",
      "Epoch 26/30\n",
      "84/84 [==============================] - 2s 29ms/step - loss: 6.4578 - age_loss: 6.2407 - gender_loss: 0.2170 - age_mean_absolute_error: 6.2407 - gender_accuracy: 0.9118 - val_loss: 8.5551 - val_age_loss: 8.2770 - val_gender_loss: 0.2781 - val_age_mean_absolute_error: 8.2770 - val_gender_accuracy: 0.8902\n",
      "Epoch 27/30\n",
      "84/84 [==============================] - 2s 29ms/step - loss: 6.5523 - age_loss: 6.3343 - gender_loss: 0.2180 - age_mean_absolute_error: 6.3343 - gender_accuracy: 0.9071 - val_loss: 8.5453 - val_age_loss: 8.2396 - val_gender_loss: 0.3057 - val_age_mean_absolute_error: 8.2396 - val_gender_accuracy: 0.8780\n",
      "Epoch 28/30\n",
      "84/84 [==============================] - 2s 29ms/step - loss: 6.0121 - age_loss: 5.7817 - gender_loss: 0.2304 - age_mean_absolute_error: 5.7817 - gender_accuracy: 0.9089 - val_loss: 8.6114 - val_age_loss: 8.3546 - val_gender_loss: 0.2568 - val_age_mean_absolute_error: 8.3546 - val_gender_accuracy: 0.8988\n",
      "Epoch 29/30\n",
      "84/84 [==============================] - 2s 29ms/step - loss: 6.3126 - age_loss: 6.0970 - gender_loss: 0.2156 - age_mean_absolute_error: 6.0970 - gender_accuracy: 0.9205 - val_loss: 8.7081 - val_age_loss: 8.3762 - val_gender_loss: 0.3319 - val_age_mean_absolute_error: 8.3762 - val_gender_accuracy: 0.8765\n",
      "Epoch 30/30\n",
      "84/84 [==============================] - 2s 29ms/step - loss: 6.2828 - age_loss: 6.0381 - gender_loss: 0.2448 - age_mean_absolute_error: 6.0381 - gender_accuracy: 0.9004 - val_loss: 8.7618 - val_age_loss: 8.4966 - val_gender_loss: 0.2652 - val_age_mean_absolute_error: 8.4966 - val_gender_accuracy: 0.8952\n"
     ]
    }
   ],
   "source": [
    "inputs = Input(shape=(size, size, 3), name='input')\n",
    "\n",
    "x = Conv2D(32, (3,3), activation='relu', name='C32')(inputs)\n",
    "x = MaxPooling2D(2,2)(x)\n",
    "\n",
    "x = Conv2D(64, (3,3), activation='relu', name='C64')(x)\n",
    "x = MaxPooling2D(2,2)(x)\n",
    "\n",
    "x = Conv2D(128, (3,3), activation='relu', name='C128')(x)\n",
    "x = MaxPooling2D(2,2)(x)\n",
    "\n",
    "x = Flatten()(x)\n",
    "x = Dense(128, activation='relu', name='D64')(x)\n",
    "\n",
    "# x = Dense(64, activation='relu', name='D16')(x)\n",
    "x = Dropout(0.2)(x)\n",
    "\n",
    "age_out    = Dense(1,activation='relu', name='age')(x)\n",
    "gender_out = Dense(1, activation='sigmoid', name='gender')(x)\n",
    "\n",
    "model = Model(inputs=inputs, outputs=[age_out, gender_out])\n",
    "\n",
    "model.compile(loss={'age': 'mean_absolute_error','gender': 'binary_crossentropy'},\n",
    "              optimizer=optimizers.Adam(lr=0.0001),\n",
    "              metrics={'age': 'mean_absolute_error', 'gender': 'accuracy'})\n",
    "\n",
    "history = model.fit(X_train, {'age': y_train, 'gender': z_train}, epochs=n_epochs, batch_size= n_batch_size,validation_data=(X_test,{'age': y_test, 'gender': z_test}))"
   ]
  },
  {
   "cell_type": "markdown",
   "metadata": {},
   "source": [
    "# Evaluation results"
   ]
  },
  {
   "cell_type": "code",
   "execution_count": 18,
   "metadata": {
    "execution": {
     "iopub.execute_input": "2021-06-14T16:04:00.722480Z",
     "iopub.status.busy": "2021-06-14T16:04:00.722039Z",
     "iopub.status.idle": "2021-06-14T16:04:02.446720Z",
     "shell.execute_reply": "2021-06-14T16:04:02.445888Z",
     "shell.execute_reply.started": "2021-06-14T16:04:00.722441Z"
    }
   },
   "outputs": [
    {
     "name": "stdout",
     "output_type": "stream",
     "text": [
      "89/89 [==============================] - 1s 9ms/step - loss: 3.7728 - age_loss: 3.6638 - gender_loss: 0.1089 - age_mean_absolute_error: 3.6638 - gender_accuracy: 0.9611\n",
      "\n",
      "Train Status:\n",
      "Age_MAE =  3.6638169288635254\n",
      "Gender_accuracy =  0.9611032605171204 \n",
      "\n",
      "44/44 [==============================] - 0s 9ms/step - loss: 8.7618 - age_loss: 8.4966 - gender_loss: 0.2652 - age_mean_absolute_error: 8.4966 - gender_accuracy: 0.8952\n",
      "\n",
      "Validation Status:\n",
      "Age_MAE =  8.496556282043457\n",
      "Gender_accuracy =  0.8951902389526367\n"
     ]
    }
   ],
   "source": [
    "_, age_loss,gender_loss, age_mean_absolute_error,gender_accuracy = model.evaluate(X_train,[y_train,z_train])\n",
    "print(\"\\nTrain Status:\")\n",
    "print(\"Age_MAE = \",age_mean_absolute_error)\n",
    "print(\"Gender_accuracy = \",gender_accuracy,\"\\n\")\n",
    "\n",
    "_, age_loss,gender_loss, age_mean_absolute_error,gender_accuracy = model.evaluate(X_test,[y_test,z_test])\n",
    "print(\"\\nValidation Status:\")\n",
    "print(\"Age_MAE = \",age_mean_absolute_error)\n",
    "print(\"Gender_accuracy = \",gender_accuracy)"
   ]
  }
 ],
 "metadata": {
  "kernelspec": {
   "display_name": "Python 3",
   "language": "python",
   "name": "python3"
  },
  "language_info": {
   "codemirror_mode": {
    "name": "ipython",
    "version": 3
   },
   "file_extension": ".py",
   "mimetype": "text/x-python",
   "name": "python",
   "nbconvert_exporter": "python",
   "pygments_lexer": "ipython3",
   "version": "3.8.8"
  },
  "toc": {
   "base_numbering": 1,
   "nav_menu": {},
   "number_sections": true,
   "sideBar": true,
   "skip_h1_title": false,
   "title_cell": "Table of Contents",
   "title_sidebar": "Contents",
   "toc_cell": false,
   "toc_position": {},
   "toc_section_display": true,
   "toc_window_display": false
  }
 },
 "nbformat": 4,
 "nbformat_minor": 4
}
